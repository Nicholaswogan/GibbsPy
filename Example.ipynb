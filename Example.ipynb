{
 "cells": [
  {
   "cell_type": "code",
   "execution_count": 1,
   "metadata": {},
   "outputs": [],
   "source": [
    "from GibbsPy.thermodynamics import gibbs,gibbsAQ,henrys_coef,fugcoef"
   ]
  },
  {
   "cell_type": "markdown",
   "metadata": {},
   "source": [
    "# GibbsPy example\n",
    "I suggest using only the following 4 fuctions: gibbs, gibbsAQ, henrys_coef, and fugcoef.\n",
    "\n",
    "**gibbs(species, T)** - Calculates the Gibbs energy of formation of a GAS PHASE species at temperature T (kelvin). This function uses the [NASA thermodynamic database](https://publications.anl.gov/anlpubs/2005/07/53802.pdf).\n",
    "\n",
    "**gibbsAQ(species, T, P)** - Calculates the Gibbs energy of formation of a AQUEOUS PHASE species at temperature T (kelvin), and pressure P (bar). This function uses the [SUPCRT thermodynamic database](https://www.sciencedirect.com/science/article/pii/009830049290029Q).\n",
    "\n",
    "**henrys_coef(species, T, P)** - Calculates the Henry law coefficient (mol L$^{-1}$ bar$^{-1}$) of a species at temperature T (kelvin), and pressure P (bar).\n",
    "\n",
    "**fugcoef(temperature, pressure, names, n)** - This function uses the Soave Equation (see Equation 27 and 28 in [Krissansen-Totton et al. 2016](https://www.liebertpub.com/doi/full/10.1089/ast.2015.1327?casa_token=LVXXfDQznwEAAAAA%3AiKsmU_1GdJO4ifGxVA30LzbPhFSMKexWc0gaJrDNxCf7D_i0ae9ym2ylWijp8dkpZOwp4ZC_Ivcr)) to calculate fugacity coefficients. Inputs are temperature (kelvin), pressure (bar), names (species names), and mol fraction of each species (n).\n",
    "\n",
    "NOTE - I suggest not using the function gibbsG, because this calculates gibbs energy of formation of a gas phase species in a DIFFERENT convention than the aqueuous phase function (gibbsAQ). Therefore, you would get the wrong answer if you used gibbsG and gibbsAQ to calculate equilibrium constant of gas-aqueous reaction. You get the right answer when you use the functions gibbs and gibbsAQ."
   ]
  },
  {
   "cell_type": "code",
   "execution_count": 2,
   "metadata": {},
   "outputs": [
    {
     "name": "stdout",
     "output_type": "stream",
     "text": [
      "-394375.3334236957\n",
      "-385974.0\n"
     ]
    }
   ],
   "source": [
    "# Calculate the Gibbs energy:\n",
    "T = 298.15 # Kelvin\n",
    "# T = 400 # Kelvin\n",
    "P = 1 # bar\n",
    "\n",
    "DG = gibbs('CO2  ',T) # somtimes you have to put spaces after species\n",
    "DG_AQ = gibbsAQ('CO2  ',T,P)\n",
    "\n",
    "print(DG)\n",
    "print(DG_AQ)"
   ]
  },
  {
   "cell_type": "code",
   "execution_count": 3,
   "metadata": {},
   "outputs": [
    {
     "data": {
      "text/plain": [
       "0.03373402519697121"
      ]
     },
     "execution_count": 3,
     "metadata": {},
     "output_type": "execute_result"
    }
   ],
   "source": [
    "# calculate henry's law coeficient\n",
    "T = 298.15 # Kelvin\n",
    "# T = 400 # Kelvin\n",
    "P = 1\n",
    "henrys_coef('CO2',T,P)"
   ]
  },
  {
   "cell_type": "code",
   "execution_count": 4,
   "metadata": {},
   "outputs": [
    {
     "name": "stdout",
     "output_type": "stream",
     "text": [
      "Fugacity coefficients are neglible at 1 bar\n",
      "[1.00358587 0.99515284 0.99855262]\n",
      "\n",
      "Fugacity coefficients are important at 100 bar\n",
      "[2.1466738  0.54397325 0.97258366]\n"
     ]
    }
   ],
   "source": [
    "# calculate fugacity coefficients\n",
    "names = ['H2','CO2','CH4']\n",
    "n = [.1, .8, .1]\n",
    "temperature = 298.15 # kelvin\n",
    "pressure = 1 # bar\n",
    "\n",
    "print('Fugacity coefficients are neglible at 1 bar')\n",
    "print(fugcoef(temperature,pressure,names,n))\n",
    "\n",
    "print()\n",
    "pressure = 100 # bar\n",
    "print('Fugacity coefficients are important at 100 bar')\n",
    "print(fugcoef(temperature,pressure,names,n))"
   ]
  }
 ],
 "metadata": {
  "kernelspec": {
   "display_name": "Python 3",
   "language": "python",
   "name": "python3"
  },
  "language_info": {
   "codemirror_mode": {
    "name": "ipython",
    "version": 3
   },
   "file_extension": ".py",
   "mimetype": "text/x-python",
   "name": "python",
   "nbconvert_exporter": "python",
   "pygments_lexer": "ipython3",
   "version": "3.7.3"
  }
 },
 "nbformat": 4,
 "nbformat_minor": 2
}
